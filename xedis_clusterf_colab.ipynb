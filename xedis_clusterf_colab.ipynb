{
  "cells": [
    {
      "cell_type": "markdown",
      "metadata": {
        "id": "view-in-github",
        "colab_type": "text"
      },
      "source": [
        "<a href=\"https://colab.research.google.com/github/xedis/stable-diffusion-webui-colab/blob/xedis_clusterf_colab/xedis_clusterf_colab.ipynb\" target=\"_parent\"><img src=\"https://colab.research.google.com/assets/colab-badge.svg\" alt=\"Open In Colab\"/></a>"
      ]
    },
    {
      "cell_type": "code",
      "execution_count": null,
      "metadata": {
        "id": "SaAJk33ppFw1"
      },
      "outputs": [],
      "source": [
        "!pip install -q https://github.com/camenduru/stable-diffusion-webui-colab/releases/download/0.0.15/xformers-0.0.15+e163309.d20230103-cp38-cp38-linux_x86_64.whl\n",
        "\n",
        "#@markdown **Google Drive Path Variables (Optional)**\n",
        "mount_google_drive = True #@param {type:\"boolean\"}\n",
        "force_remount = False\n",
        "\n",
        "if mount_google_drive:\n",
        "    from google.colab import drive # type: ignore\n",
        "    drive_path = \"/content/drive\"\n",
        "    drive.mount(drive_path,force_remount=force_remount)\n",
        " \n",
        "!git clone https://github.com/xedis/stable-diffusion-webui\n",
        "!git clone https://github.com/deforum-art/deforum-for-automatic1111-webui /content/stable-diffusion-webui/extensions/deforum-for-automatic1111-webui\n",
        "!git clone https://github.com/yfszzx/stable-diffusion-webui-images-browser /content/stable-diffusion-webui/extensions/stable-diffusion-webui-images-browser\n",
        "!git clone https://github.com/Interpause/auto-sd-paint-ext /content/stable-diffusion-webui/extensions/auto-sd-paint-ext\n",
        "!git clone https://github.com/camenduru/stable-diffusion-webui-huggingface /content/stable-diffusion-webui/extensions/stable-diffusion-webui-huggingface\n",
        "%cd /content/stable-diffusion-webui\n",
        "\n",
        "\n",
        "!cp /content/drive/MyDrive/AI/models/Stable-diffusion/sd1.5.ckpt /content/stable-diffusion-webui/models/Stable-diffusion\n",
        "!cp /content/drive/MyDrive/AI/models/Stable-diffusion/woundded* /content/stable-diffusion-webui/models/Stable-diffusion \n",
        "\n",
        "\n",
        "!apt-get -y install -qq aria2\n",
        "!aria2c -c -x 10 -s 10 -k 1M https://civitai.com/api/download/models/1213 -d /content/stable-diffusion-webui/models/Stable-diffusion\n",
        "\n",
        "!python launch.py --share --xformers --api --administrator --listen"
      ]
    },
    {
      "cell_type": "code",
      "source": [
        "sd = '/content/stable-diffusion-webui/'\n",
        "ai = '/content/drive/MyDrive/AI/'\n",
        "\n",
        "\n",
        "#!git clone https://github.com/Interpause/auto-sd-paint-ext /content/stable-diffusion-webui/extensions/auto-sd-paint-ext\n",
        "!cp {ai}/models/Stable-diffusion/Cyb* {sd}models/Stable-diffusion\n",
        "!cp /content/drive/MyDrive/4x-UltraSharp.pth {sd}models/ESRGAN/\n",
        "\n",
        "!cp {ai}'Style-Psycho.pt' {sd}embeddings/\n",
        "!cp {ai}micromini.pt {sd}embeddings/\n",
        "\n",
        "!git clone https://github.com/some9000/StylePile {sd}extensions/StylePile\n",
        "!git clone https://github.com/Zyin055/Config-Presets.git {sd}extensions/Config-Presets\n",
        "\n",
        "\n",
        "!python launch.py --share --xformers --api --administrator --listen"
      ],
      "metadata": {
        "id": "yFV9d41QNhmE"
      },
      "execution_count": null,
      "outputs": []
    }
  ],
  "metadata": {
    "accelerator": "GPU",
    "colab": {
      "private_outputs": true,
      "provenance": [],
      "include_colab_link": true
    },
    "gpuClass": "standard",
    "kernelspec": {
      "display_name": "Python 3",
      "name": "python3"
    },
    "language_info": {
      "name": "python"
    }
  },
  "nbformat": 4,
  "nbformat_minor": 0
}